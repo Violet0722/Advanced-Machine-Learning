{
 "cells": [
  {
   "cell_type": "markdown",
   "metadata": {},
   "source": [
    "# Gaussian Naive Bayes\n",
    "A reimplementation of the `sklearn` Gaussian Naive Bayes classifier. \n",
    "\n",
    "Provide a python class MyGaussianNB that implements Gaussian Naive Bayes. \n",
    "The API specification for sklearn classifiers is here: https://scikit-learn.org/stable/developers/develop.html \n",
    "Implement the ‘fit’ and ‘predict’ methods. \n"
   ]
  },
  {
   "cell_type": "code",
   "execution_count": 1,
   "metadata": {},
   "outputs": [],
   "source": [
    "import numpy as np\n",
    "import pandas as pd\n",
    "import math\n",
    "from sklearn.preprocessing import StandardScaler,MinMaxScaler\n",
    "from sklearn.model_selection import train_test_split\n",
    "from sklearn.naive_bayes import GaussianNB\n",
    "from sklearn.base import BaseEstimator, ClassifierMixin\n",
    "from collections import Counter\n",
    "from sklearn.metrics import accuracy_score\n",
    "from sklearn.impute import SimpleImputer\n",
    "from sklearn.pipeline import Pipeline\n",
    "from sklearn.model_selection import cross_val_score\n",
    "from sklearn.experimental import enable_iterative_imputer\n",
    "from sklearn.impute import IterativeImputer\n",
    "from sklearn.model_selection import GridSearchCV\n",
    "from sklearn.impute import KNNImputer"
   ]
  },
  {
   "cell_type": "markdown",
   "metadata": {},
   "source": [
    "## My GaussianNB\n",
    "Reimplementation of a Gaussian Naive Bayes."
   ]
  },
  {
   "cell_type": "code",
   "execution_count": 2,
   "metadata": {},
   "outputs": [],
   "source": [
    "class MyGaussianNB(BaseEstimator, ClassifierMixin):          \n",
    "    def fit(self, Xt, yt):\n",
    "        self.var_smoothing = 1e-9   # zero variance will cause division by zero errors.\n",
    "        self.Xt = Xt\n",
    "        self.yt = yt\n",
    "        self.n_feat = Xt.shape[1]\n",
    "        self.mus = {}\n",
    "        self.sig_sqs = {}\n",
    "        self.priors = {}\n",
    "        \n",
    "        c_dict = Counter(self.yt)\n",
    "        \n",
    "        for c in c_dict.keys():\n",
    "            self.mus[c] = np.zeros(self.n_feat) # where the means will be stored\n",
    "            self.sig_sqs[c] = np.zeros(self.n_feat) # where the variances will be stored\n",
    "            self.priors[c] = c_dict[c]/Xt.shape[0]\n",
    "            \n",
    "            mask = self.yt == c\n",
    "            X_tr_c = self.Xt[mask, :] # the rows for this class label\n",
    "            \n",
    "            for f in range(self.n_feat):\n",
    "                self.mus[c][f] = np.nanmean(X_tr_c[:,f]) #nanmean\n",
    "                self.sig_sqs[c][f] = np.nanvar(X_tr_c[:,f] + self.var_smoothing)  #nanvar              \n",
    "        #print(self.mus)\n",
    "        #print(self.sig_sqs)\n",
    "        \n",
    "        return self\n",
    "    \n",
    "    # The predictions are the most common class in the training set.\n",
    "    def predict(self, Xtes):\n",
    "        self.Xtes = Xtes \n",
    "        res_list = []\n",
    "        for sample in Xtes:\n",
    "            res_list.append(self.predict_single(sample))\n",
    "            \n",
    "        return np.array(res_list)\n",
    "    \n",
    "    def predict_single(self, x_single):\n",
    "        probs = {}\n",
    "        for c in self.priors.keys():   # for each of the class labels\n",
    "            probs[c] = self.priors[c]   # prior probability\n",
    "            \n",
    "            for i, f in enumerate(x_single): #Skip missing values\n",
    "                if not np.isnan(f):\n",
    "                    t1 = 1/math.sqrt(2*math.pi*self.sig_sqs[c][i])\n",
    "                    num = (f - self.mus[c][i])**2\n",
    "                    den = 2*self.sig_sqs[c][i]\n",
    "                    pxi_y = t1 * math.exp(-num/den)   #calculate P(x/y)\n",
    "                    probs[c] = probs[c] * pxi_y   #posterior = prior * likelihood\n",
    "                    #print(t1, num, den, pxi_y)\n",
    "                    #print(probs)\n",
    "                #print(c, self.priors[c])\n",
    "        return max(probs, key=probs.get) # Return the key with the largest value\n",
    "        "
   ]
  },
  {
   "cell_type": "markdown",
   "metadata": {},
   "source": [
    "## Testing\n",
    "Test the performance of your implementation against the `GaussianNB` implementation in `scikit-learn`. Use a range of datasets for this testing.   \n",
    "Four datasets are used for testing; testing on a hold out set:\n",
    " - **penguins**: check that mean and variance estimates are the same, check that predictions are the same. \n",
    " - **diabetes**: check that predictions are the same.\n",
    " - **glassV2**: test that predictions are the same. \n",
    " - **bike_sharing**: test that predictions are the same. "
   ]
  },
  {
   "cell_type": "markdown",
   "metadata": {},
   "source": [
    "The main component in the testing is to check the `fidelity` of the testing against the Gaussian Naive Bayes implementation in `scikit-learn`.    \n",
    "The `fidelity_tests` function compares predictions across multiple runs (different holdout tests). It uses `accuracy_score` to do the comparison."
   ]
  },
  {
   "cell_type": "code",
   "execution_count": 3,
   "metadata": {},
   "outputs": [],
   "source": [
    "def fidelity_tests (X,y, nreps = 10):\n",
    "    for rs in range(1, nreps + 1):\n",
    "        X_tr_raw, X_ts_raw, y_train, y_test = train_test_split(X_raw, y, \n",
    "                                                               random_state=rs, \n",
    "                                                               test_size=1/2)\n",
    "        scaler = StandardScaler()\n",
    "        X_train = scaler.fit_transform(X_tr_raw)\n",
    "        X_test = scaler.transform(X_ts_raw)\n",
    "        gnb = GaussianNB()\n",
    "        mgnb = MyGaussianNB()\n",
    "        mgnb.fit(X_train,y_train)\n",
    "        gnb.fit(X_train,y_train)\n",
    "        ascore = accuracy_score(gnb.predict(X_test),mgnb.predict(X_test)) \n",
    "        gacc = accuracy_score(gnb.predict(X_test),y_test)\n",
    "        macc = accuracy_score(mgnb.predict(X_test),y_test)\n",
    "        print (\"Run: %d Score: %.2f SK acc: %.2f My acc: %.2f\" % (rs, ascore, gacc, macc))"
   ]
  },
  {
   "cell_type": "markdown",
   "metadata": {},
   "source": [
    "### Penguins"
   ]
  },
  {
   "cell_type": "code",
   "execution_count": 4,
   "metadata": {},
   "outputs": [
    {
     "name": "stdout",
     "output_type": "stream",
     "text": [
      "(333, 8)\n"
     ]
    }
   ],
   "source": [
    "penguins = pd.read_csv('penguins.csv', index_col = 0)\n",
    "print(penguins.shape)\n",
    "penguins.head()\n",
    "\n",
    "f_names = ['bill_length_mm', 'bill_depth_mm','flipper_length_mm', 'body_mass_g']\n",
    "penguins = penguins[f_names + ['species']]"
   ]
  },
  {
   "cell_type": "code",
   "execution_count": 5,
   "metadata": {},
   "outputs": [
    {
     "data": {
      "text/plain": [
       "((166, 4), (167, 4))"
      ]
     },
     "execution_count": 5,
     "metadata": {},
     "output_type": "execute_result"
    }
   ],
   "source": [
    "y = penguins.pop('species').values\n",
    "X_raw = penguins.values\n",
    "X_tr_raw, X_ts_raw, y_train, y_test = train_test_split(X_raw, y, random_state=2, test_size=1/2)\n",
    "scaler = StandardScaler()\n",
    "X_train = scaler.fit_transform(X_tr_raw)\n",
    "X_test = scaler.transform(X_ts_raw)\n",
    "max_k = X_train.shape[1]\n",
    "X_train.shape, X_test.shape"
   ]
  },
  {
   "cell_type": "markdown",
   "metadata": {},
   "source": [
    "**Model Parameters**  \n",
    "The means are the same:"
   ]
  },
  {
   "cell_type": "code",
   "execution_count": 6,
   "metadata": {},
   "outputs": [
    {
     "data": {
      "text/plain": [
       "MyGaussianNB()"
      ]
     },
     "execution_count": 6,
     "metadata": {},
     "output_type": "execute_result"
    }
   ],
   "source": [
    "gnb = GaussianNB()\n",
    "gnb.fit(X_train,y_train)\n",
    "mgnb = MyGaussianNB()\n",
    "mgnb.fit(X_train,y_train)"
   ]
  },
  {
   "cell_type": "code",
   "execution_count": 7,
   "metadata": {},
   "outputs": [
    {
     "data": {
      "text/plain": [
       "{'Chinstrap': array([0.31689883, 0.31237582, 0.20405537, 0.24846588]),\n",
       " 'Gentoo': array([0.28810086, 0.25004371, 0.27702916, 0.40919054]),\n",
       " 'Adelie': array([0.23452725, 0.4081271 , 0.20267081, 0.35176248])}"
      ]
     },
     "execution_count": 7,
     "metadata": {},
     "output_type": "execute_result"
    }
   ],
   "source": [
    "mgnb.sig_sqs"
   ]
  },
  {
   "cell_type": "code",
   "execution_count": 8,
   "metadata": {},
   "outputs": [
    {
     "data": {
      "text/plain": [
       "array([[-0.92625328,  0.52195557, -0.77406098, -0.59102787],\n",
       "       [ 0.91764385,  0.70847529, -0.24527437, -0.53946387],\n",
       "       [ 0.69991712, -1.13851399,  1.19942791,  1.12964089]])"
      ]
     },
     "execution_count": 8,
     "metadata": {},
     "output_type": "execute_result"
    }
   ],
   "source": [
    "gnb.theta_"
   ]
  },
  {
   "cell_type": "code",
   "execution_count": 9,
   "metadata": {
    "scrolled": true
   },
   "outputs": [
    {
     "data": {
      "text/plain": [
       "{'Chinstrap': array([ 0.91764385,  0.70847529, -0.24527437, -0.53946387]),\n",
       " 'Gentoo': array([ 0.69991712, -1.13851399,  1.19942791,  1.12964089]),\n",
       " 'Adelie': array([-0.92625328,  0.52195557, -0.77406098, -0.59102787])}"
      ]
     },
     "execution_count": 9,
     "metadata": {},
     "output_type": "execute_result"
    }
   ],
   "source": [
    "mgnb.mus"
   ]
  },
  {
   "cell_type": "markdown",
   "metadata": {},
   "source": [
    "Accuracy scores are the same:"
   ]
  },
  {
   "cell_type": "code",
   "execution_count": 10,
   "metadata": {
    "scrolled": true
   },
   "outputs": [
    {
     "data": {
      "text/plain": [
       "0.9640718562874252"
      ]
     },
     "execution_count": 10,
     "metadata": {},
     "output_type": "execute_result"
    }
   ],
   "source": [
    "gnb.score(X_test, y_test)"
   ]
  },
  {
   "cell_type": "code",
   "execution_count": 11,
   "metadata": {},
   "outputs": [
    {
     "data": {
      "text/plain": [
       "0.9640718562874252"
      ]
     },
     "execution_count": 11,
     "metadata": {},
     "output_type": "execute_result"
    }
   ],
   "source": [
    "mgnb.score(X_test, y_test)"
   ]
  },
  {
   "cell_type": "markdown",
   "metadata": {},
   "source": [
    "### Fidelity tests"
   ]
  },
  {
   "cell_type": "markdown",
   "metadata": {},
   "source": [
    "Look at the lables of the predictions of the first 10 test samples:"
   ]
  },
  {
   "cell_type": "code",
   "execution_count": 12,
   "metadata": {
    "scrolled": true
   },
   "outputs": [
    {
     "data": {
      "text/plain": [
       "array(['Chinstrap', 'Gentoo', 'Adelie', 'Gentoo', 'Adelie', 'Adelie',\n",
       "       'Gentoo', 'Adelie', 'Adelie', 'Adelie'], dtype='<U9')"
      ]
     },
     "execution_count": 12,
     "metadata": {},
     "output_type": "execute_result"
    }
   ],
   "source": [
    "mgnb.predict(X_test[:10])"
   ]
  },
  {
   "cell_type": "code",
   "execution_count": 13,
   "metadata": {},
   "outputs": [
    {
     "data": {
      "text/plain": [
       "array(['Chinstrap', 'Gentoo', 'Adelie', 'Gentoo', 'Adelie', 'Adelie',\n",
       "       'Gentoo', 'Adelie', 'Adelie', 'Adelie'], dtype='<U9')"
      ]
     },
     "execution_count": 13,
     "metadata": {},
     "output_type": "execute_result"
    }
   ],
   "source": [
    "gnb.predict(X_test[:10])"
   ]
  },
  {
   "cell_type": "markdown",
   "metadata": {},
   "source": [
    "Run multiple tests"
   ]
  },
  {
   "cell_type": "code",
   "execution_count": 14,
   "metadata": {
    "scrolled": true
   },
   "outputs": [
    {
     "name": "stdout",
     "output_type": "stream",
     "text": [
      "Run: 1 Score: 1.00 SK acc: 0.94 My acc: 0.94\n",
      "Run: 2 Score: 1.00 SK acc: 0.96 My acc: 0.96\n",
      "Run: 3 Score: 1.00 SK acc: 0.95 My acc: 0.95\n",
      "Run: 4 Score: 1.00 SK acc: 0.95 My acc: 0.95\n",
      "Run: 5 Score: 1.00 SK acc: 0.96 My acc: 0.96\n",
      "Run: 6 Score: 1.00 SK acc: 0.96 My acc: 0.96\n",
      "Run: 7 Score: 1.00 SK acc: 0.98 My acc: 0.98\n",
      "Run: 8 Score: 1.00 SK acc: 0.97 My acc: 0.97\n",
      "Run: 9 Score: 1.00 SK acc: 0.96 My acc: 0.96\n",
      "Run: 10 Score: 1.00 SK acc: 0.99 My acc: 0.99\n"
     ]
    }
   ],
   "source": [
    "fidelity_tests(X_raw, y)"
   ]
  },
  {
   "cell_type": "markdown",
   "metadata": {},
   "source": [
    "Finally, we use `accuracy_score` to compare all predictions on the test set.   \n",
    "The score of 1.0 indicates perfect agreement."
   ]
  },
  {
   "cell_type": "markdown",
   "metadata": {},
   "source": []
  },
  {
   "cell_type": "markdown",
   "metadata": {},
   "source": [
    "### Penguins MV0.2 dataset"
   ]
  },
  {
   "cell_type": "code",
   "execution_count": 15,
   "metadata": {},
   "outputs": [
    {
     "name": "stdout",
     "output_type": "stream",
     "text": [
      "(333, 5)\n"
     ]
    }
   ],
   "source": [
    "#Load the PenguinsMV0.2 dataset\n",
    "penguinsMV2 = pd.read_csv('PenguinsMV0.2.csv', index_col = 0, na_values = '?')  #\n",
    "print(penguinsMV2.shape)\n",
    "penguinsMV2.head()\n",
    "\n",
    "f_names = ['bill_length', 'bill_depth','flipper_length', 'body_mass']\n",
    "penguinsMV2 = penguinsMV2[f_names + ['species']]"
   ]
  },
  {
   "cell_type": "code",
   "execution_count": 16,
   "metadata": {},
   "outputs": [
    {
     "data": {
      "text/plain": [
       "((166, 4), (167, 4))"
      ]
     },
     "execution_count": 16,
     "metadata": {},
     "output_type": "execute_result"
    }
   ],
   "source": [
    "y = penguinsMV2.pop('species').values\n",
    "X = penguinsMV2.values\n",
    "X_train, X_test, y_train, y_test = train_test_split(X, y, \n",
    "                                                    test_size=0.5,\n",
    "                                                    random_state=42)\n",
    "X_train.shape, X_test.shape"
   ]
  },
  {
   "cell_type": "markdown",
   "metadata": {},
   "source": [
    "### 1 Using MyGaussianNB"
   ]
  },
  {
   "cell_type": "code",
   "execution_count": 17,
   "metadata": {},
   "outputs": [],
   "source": [
    "mGNBpipe  = Pipeline(steps=[\n",
    "    ('scaler', StandardScaler()),\n",
    "    ('classifier', MyGaussianNB())])"
   ]
  },
  {
   "cell_type": "code",
   "execution_count": 18,
   "metadata": {},
   "outputs": [
    {
     "name": "stdout",
     "output_type": "stream",
     "text": [
      "Fitting 10 folds for each of 3 candidates, totalling 30 fits\n"
     ]
    }
   ],
   "source": [
    "mgnb_param_grid = {\n",
    "              'scaler':[StandardScaler(), MinMaxScaler(),'passthrough'],\n",
    "             }\n",
    "mgnb_pipe_gs = GridSearchCV(mGNBpipe,mgnb_param_grid,cv=10, \n",
    "                      verbose = 1, n_jobs = -1)\n",
    "mgnb_pipe_gs = mgnb_pipe_gs.fit(X_train, y_train)\n"
   ]
  },
  {
   "cell_type": "code",
   "execution_count": 19,
   "metadata": {},
   "outputs": [
    {
     "data": {
      "text/plain": [
       "{'scaler': StandardScaler()}"
      ]
     },
     "execution_count": 19,
     "metadata": {},
     "output_type": "execute_result"
    }
   ],
   "source": [
    "mgnb_pipe_gs.best_params_"
   ]
  },
  {
   "cell_type": "code",
   "execution_count": 20,
   "metadata": {},
   "outputs": [
    {
     "name": "stdout",
     "output_type": "stream",
     "text": [
      "MyGaussianNB, Accuracy: 0.94\n"
     ]
    }
   ],
   "source": [
    "y_mgnb_pred_gs = mgnb_pipe_gs.predict(X_test)\n",
    "print(\"MyGaussianNB, Accuracy: {0:4.2f}\".format(accuracy_score(y_test,y_mgnb_pred_gs)))"
   ]
  },
  {
   "cell_type": "markdown",
   "metadata": {},
   "source": [
    "### 2 Using GaussianNB"
   ]
  },
  {
   "cell_type": "markdown",
   "metadata": {},
   "source": [
    "### 2-1 gnb  imputer: KNN"
   ]
  },
  {
   "cell_type": "code",
   "execution_count": 21,
   "metadata": {},
   "outputs": [],
   "source": [
    "gNBpipe  = Pipeline(steps=[\n",
    "    ('imputer', KNNImputer(n_neighbors=6, weights=\"uniform\")),\n",
    "    ('scaler', StandardScaler()),\n",
    "    ('classifier', GaussianNB())])\n",
    "\n",
    "#acc_arr = cross_val_score(gNBpipe, X, y, cv=9, n_jobs = -1)\n",
    "#print(\"Accuracy: {0:4.2f}\".format(sum(acc_arr)/len(acc_arr)))"
   ]
  },
  {
   "cell_type": "code",
   "execution_count": 22,
   "metadata": {},
   "outputs": [
    {
     "name": "stdout",
     "output_type": "stream",
     "text": [
      "Fitting 10 folds for each of 3 candidates, totalling 30 fits\n"
     ]
    }
   ],
   "source": [
    "gnb_param_grid = {\n",
    "              'scaler':[StandardScaler(), MinMaxScaler(),'passthrough'],\n",
    "             }\n",
    "gnb_pipe_gs = GridSearchCV(gNBpipe,gnb_param_grid,cv=10, \n",
    "                      verbose = 1, n_jobs = -1)\n",
    "gnb_pipe_gs = gnb_pipe_gs.fit(X_train, y_train)"
   ]
  },
  {
   "cell_type": "code",
   "execution_count": 23,
   "metadata": {},
   "outputs": [
    {
     "data": {
      "text/plain": [
       "{'scaler': StandardScaler()}"
      ]
     },
     "execution_count": 23,
     "metadata": {},
     "output_type": "execute_result"
    }
   ],
   "source": [
    "gnb_pipe_gs.best_params_"
   ]
  },
  {
   "cell_type": "code",
   "execution_count": 24,
   "metadata": {},
   "outputs": [
    {
     "name": "stdout",
     "output_type": "stream",
     "text": [
      "Imputer: KNNImputer, Accuracy: 0.93\n"
     ]
    }
   ],
   "source": [
    "y_gnb_pred_gs = gnb_pipe_gs.predict(X_test)\n",
    "print(\"Imputer: KNNImputer, Accuracy: {0:4.2f}\".format(accuracy_score(y_test,y_gnb_pred_gs)))"
   ]
  },
  {
   "cell_type": "markdown",
   "metadata": {},
   "source": [
    "### 2-2 gnb SimpleImputer "
   ]
  },
  {
   "cell_type": "code",
   "execution_count": 25,
   "metadata": {},
   "outputs": [],
   "source": [
    "gNBpipe  = Pipeline(steps=[\n",
    "    ('imputer', SimpleImputer(missing_values = np.nan)),\n",
    "    ('scaler', StandardScaler()),\n",
    "    ('classifier', GaussianNB())])"
   ]
  },
  {
   "cell_type": "code",
   "execution_count": 26,
   "metadata": {},
   "outputs": [
    {
     "name": "stdout",
     "output_type": "stream",
     "text": [
      "Fitting 10 folds for each of 3 candidates, totalling 30 fits\n"
     ]
    }
   ],
   "source": [
    "gnb_param_grid = {\n",
    "              'scaler':[StandardScaler(), MinMaxScaler(),'passthrough'],\n",
    "             }\n",
    "gnb_pipe_gs = GridSearchCV(gNBpipe,gnb_param_grid,cv=10, \n",
    "                      verbose = 1, n_jobs = -1)\n",
    "gnb_pipe_gs = gnb_pipe_gs.fit(X_train, y_train)"
   ]
  },
  {
   "cell_type": "code",
   "execution_count": 27,
   "metadata": {},
   "outputs": [
    {
     "data": {
      "text/plain": [
       "{'scaler': StandardScaler()}"
      ]
     },
     "execution_count": 27,
     "metadata": {},
     "output_type": "execute_result"
    }
   ],
   "source": [
    "gnb_pipe_gs.best_params_"
   ]
  },
  {
   "cell_type": "code",
   "execution_count": 28,
   "metadata": {},
   "outputs": [
    {
     "name": "stdout",
     "output_type": "stream",
     "text": [
      "Imputer: SimpleImputer, Accuracy: 0.93\n"
     ]
    }
   ],
   "source": [
    "y_gnb_pred_gs = gnb_pipe_gs.predict(X_test)\n",
    "print(\"Imputer: SimpleImputer, Accuracy: {0:4.2f}\".format(accuracy_score(y_test,y_gnb_pred_gs)))"
   ]
  },
  {
   "cell_type": "markdown",
   "metadata": {},
   "source": [
    "### 2-3 gnb IterativeImputer"
   ]
  },
  {
   "cell_type": "code",
   "execution_count": 29,
   "metadata": {},
   "outputs": [],
   "source": [
    "#Using multi-variate imputation algorithm\n",
    "gNBpipe  = Pipeline(steps=[\n",
    "    ('imputer', IterativeImputer(missing_values = np.nan)),\n",
    "    ('scaler', StandardScaler()),\n",
    "    ('classifier', GaussianNB())])"
   ]
  },
  {
   "cell_type": "code",
   "execution_count": 30,
   "metadata": {},
   "outputs": [
    {
     "name": "stdout",
     "output_type": "stream",
     "text": [
      "Fitting 10 folds for each of 3 candidates, totalling 30 fits\n"
     ]
    }
   ],
   "source": [
    "gnb_param_grid = {\n",
    "              'scaler':[StandardScaler(), MinMaxScaler(),'passthrough'],\n",
    "             }\n",
    "gnb_pipe_gs = GridSearchCV(gNBpipe,gnb_param_grid,cv=10, \n",
    "                      verbose = 1, n_jobs = -1)\n",
    "gnb_pipe_gs = gnb_pipe_gs.fit(X_train, y_train)"
   ]
  },
  {
   "cell_type": "code",
   "execution_count": 31,
   "metadata": {},
   "outputs": [
    {
     "data": {
      "text/plain": [
       "{'scaler': StandardScaler()}"
      ]
     },
     "execution_count": 31,
     "metadata": {},
     "output_type": "execute_result"
    }
   ],
   "source": [
    "gnb_pipe_gs.best_params_"
   ]
  },
  {
   "cell_type": "code",
   "execution_count": 32,
   "metadata": {},
   "outputs": [
    {
     "name": "stdout",
     "output_type": "stream",
     "text": [
      "Imputer: IterativeImputer, Accuracy: 0.95\n"
     ]
    }
   ],
   "source": [
    "y_gnb_pred_gs = gnb_pipe_gs.predict(X_test)\n",
    "print(\"Imputer: IterativeImputer, Accuracy: {0:4.2f}\".format(accuracy_score(y_test,y_gnb_pred_gs)))"
   ]
  },
  {
   "cell_type": "markdown",
   "metadata": {},
   "source": [
    "Iterative Imputer performed best among the three imputers when GaussianNB classifier was used"
   ]
  },
  {
   "cell_type": "markdown",
   "metadata": {},
   "source": [
    "### PenguinsMV0.4 dataset"
   ]
  },
  {
   "cell_type": "code",
   "execution_count": 33,
   "metadata": {},
   "outputs": [
    {
     "name": "stdout",
     "output_type": "stream",
     "text": [
      "(333, 5)\n"
     ]
    }
   ],
   "source": [
    "#Load the PenguinsMV0.4 dataset\n",
    "penguinsMV4 = pd.read_csv('PenguinsMV0.4.csv', index_col = 0, na_values = '?')  \n",
    "print(penguinsMV4.shape)\n",
    "penguinsMV4.head()\n",
    "\n",
    "f_names = ['bill_length', 'bill_depth','flipper_length', 'body_mass']\n",
    "penguinsMV4 = penguinsMV4[f_names + ['species']]"
   ]
  },
  {
   "cell_type": "code",
   "execution_count": 34,
   "metadata": {},
   "outputs": [
    {
     "data": {
      "text/plain": [
       "((166, 4), (167, 4))"
      ]
     },
     "execution_count": 34,
     "metadata": {},
     "output_type": "execute_result"
    }
   ],
   "source": [
    "y = penguinsMV4.pop('species').values\n",
    "X = penguinsMV4.values\n",
    "X_train, X_test, y_train, y_test = train_test_split(X, y, \n",
    "                                                    test_size=0.5,\n",
    "                                                    random_state=42)\n",
    "X_train.shape, X_test.shape"
   ]
  },
  {
   "cell_type": "markdown",
   "metadata": {},
   "source": [
    "### 1 Using MyGaussianNB"
   ]
  },
  {
   "cell_type": "code",
   "execution_count": 35,
   "metadata": {},
   "outputs": [],
   "source": [
    "mGNBpipe  = Pipeline(steps=[\n",
    "    ('scaler', StandardScaler()),\n",
    "    ('classifier', MyGaussianNB())])"
   ]
  },
  {
   "cell_type": "code",
   "execution_count": 36,
   "metadata": {},
   "outputs": [
    {
     "name": "stdout",
     "output_type": "stream",
     "text": [
      "\n",
      "2-fold cross validation score (\"Accuracy\") : 0.86\n",
      "\n",
      "3-fold cross validation score (\"Accuracy\") : 0.86\n",
      "\n",
      "4-fold cross validation score (\"Accuracy\") : 0.86\n",
      "\n",
      "5-fold cross validation score (\"Accuracy\") : 0.86\n",
      "\n",
      "6-fold cross validation score (\"Accuracy\") : 0.87\n",
      "\n",
      "7-fold cross validation score (\"Accuracy\") : 0.86\n",
      "\n",
      "8-fold cross validation score (\"Accuracy\") : 0.87\n",
      "\n",
      "9-fold cross validation score (\"Accuracy\") : 0.87\n",
      "\n",
      "10-fold cross validation score (\"Accuracy\") : 0.87\n"
     ]
    }
   ],
   "source": [
    "cross_validation_folds = 1\n",
    "for num in range(1,10):\n",
    "    cross_validation_folds=cross_validation_folds+1\n",
    "    acc_arr = cross_val_score(mGNBpipe, X, y, cv=cross_validation_folds, n_jobs = -1)\n",
    "    print('\\n{0}-fold cross validation score (\"Accuracy\") : {1:.2f}'.format(cross_validation_folds,sum(acc_arr)/len(acc_arr)))"
   ]
  },
  {
   "cell_type": "markdown",
   "metadata": {},
   "source": [
    "### 2 Using GaussianNB"
   ]
  },
  {
   "cell_type": "markdown",
   "metadata": {},
   "source": [
    "### 2-1 Using KNNImputer"
   ]
  },
  {
   "cell_type": "code",
   "execution_count": 37,
   "metadata": {},
   "outputs": [],
   "source": [
    "gNBpipe  = Pipeline(steps=[\n",
    "    ('imputer', KNNImputer(missing_values = np.nan)),\n",
    "    ('scaler', StandardScaler()),\n",
    "    ('classifier', GaussianNB())])"
   ]
  },
  {
   "cell_type": "code",
   "execution_count": 38,
   "metadata": {},
   "outputs": [
    {
     "name": "stdout",
     "output_type": "stream",
     "text": [
      "\n",
      "2-fold cross validation score (\"Accuracy\") : 0.81\n",
      "\n",
      "3-fold cross validation score (\"Accuracy\") : 0.82\n",
      "\n",
      "4-fold cross validation score (\"Accuracy\") : 0.81\n",
      "\n",
      "5-fold cross validation score (\"Accuracy\") : 0.80\n",
      "\n",
      "6-fold cross validation score (\"Accuracy\") : 0.81\n",
      "\n",
      "7-fold cross validation score (\"Accuracy\") : 0.82\n",
      "\n",
      "8-fold cross validation score (\"Accuracy\") : 0.81\n",
      "\n",
      "9-fold cross validation score (\"Accuracy\") : 0.81\n",
      "\n",
      "10-fold cross validation score (\"Accuracy\") : 0.81\n"
     ]
    }
   ],
   "source": [
    "cross_validation_folds = 1\n",
    "for num in range(1,10):\n",
    "    cross_validation_folds=cross_validation_folds+1\n",
    "    acc_arr = cross_val_score(gNBpipe, X, y, cv=cross_validation_folds, n_jobs = -1)\n",
    "    print('\\n{0}-fold cross validation score (\"Accuracy\") : {1:.2f}'.format(cross_validation_folds,sum(acc_arr)/len(acc_arr)))"
   ]
  },
  {
   "cell_type": "markdown",
   "metadata": {},
   "source": [
    "### 2-2 Using SimpleImputer"
   ]
  },
  {
   "cell_type": "code",
   "execution_count": 39,
   "metadata": {},
   "outputs": [],
   "source": [
    "gNBpipe = Pipeline(steps=[\n",
    "    ('imputer', SimpleImputer(missing_values = np.nan)),\n",
    "    ('scaler', StandardScaler()),\n",
    "    ('classifier', GaussianNB())])"
   ]
  },
  {
   "cell_type": "code",
   "execution_count": 40,
   "metadata": {},
   "outputs": [
    {
     "name": "stdout",
     "output_type": "stream",
     "text": [
      "\n",
      "2-fold cross validation score (\"Accuracy\") : 0.83\n",
      "\n",
      "3-fold cross validation score (\"Accuracy\") : 0.83\n",
      "\n",
      "4-fold cross validation score (\"Accuracy\") : 0.84\n",
      "\n",
      "5-fold cross validation score (\"Accuracy\") : 0.83\n",
      "\n",
      "6-fold cross validation score (\"Accuracy\") : 0.84\n",
      "\n",
      "7-fold cross validation score (\"Accuracy\") : 0.84\n",
      "\n",
      "8-fold cross validation score (\"Accuracy\") : 0.85\n",
      "\n",
      "9-fold cross validation score (\"Accuracy\") : 0.85\n",
      "\n",
      "10-fold cross validation score (\"Accuracy\") : 0.85\n"
     ]
    }
   ],
   "source": [
    "cross_validation_folds = 1\n",
    "for num in range(1,10):\n",
    "    cross_validation_folds=cross_validation_folds+1\n",
    "    acc_arr = cross_val_score(gNBpipe, X, y, cv=cross_validation_folds, n_jobs = -1)\n",
    "    print('\\n{0}-fold cross validation score (\"Accuracy\") : {1:.2f}'.format(cross_validation_folds,sum(acc_arr)/len(acc_arr)))"
   ]
  },
  {
   "cell_type": "markdown",
   "metadata": {},
   "source": [
    "### 2-3 Using IterativeImputer"
   ]
  },
  {
   "cell_type": "code",
   "execution_count": 41,
   "metadata": {},
   "outputs": [],
   "source": [
    "gNBpipe  = Pipeline(steps=[\n",
    "    ('imputer', IterativeImputer(missing_values = np.nan)),\n",
    "    ('scaler', StandardScaler()),\n",
    "    ('classifier', GaussianNB())])"
   ]
  },
  {
   "cell_type": "code",
   "execution_count": 42,
   "metadata": {},
   "outputs": [
    {
     "name": "stdout",
     "output_type": "stream",
     "text": [
      "\n",
      "2-fold cross validation score (\"Accuracy\") : 0.84\n",
      "\n",
      "3-fold cross validation score (\"Accuracy\") : 0.84\n",
      "\n",
      "4-fold cross validation score (\"Accuracy\") : 0.84\n",
      "\n",
      "5-fold cross validation score (\"Accuracy\") : 0.83\n",
      "\n",
      "6-fold cross validation score (\"Accuracy\") : 0.84\n",
      "\n",
      "7-fold cross validation score (\"Accuracy\") : 0.83\n",
      "\n",
      "8-fold cross validation score (\"Accuracy\") : 0.84\n",
      "\n",
      "9-fold cross validation score (\"Accuracy\") : 0.83\n",
      "\n",
      "10-fold cross validation score (\"Accuracy\") : 0.84\n"
     ]
    }
   ],
   "source": [
    "cross_validation_folds = 1\n",
    "for num in range(1,10):\n",
    "    cross_validation_folds=cross_validation_folds+1\n",
    "    acc_arr = cross_val_score(gNBpipe, X, y, cv=cross_validation_folds, n_jobs = -1)\n",
    "    print('\\n{0}-fold cross validation score (\"Accuracy\") : {1:.2f}'.format(cross_validation_folds,sum(acc_arr)/len(acc_arr)))"
   ]
  },
  {
   "cell_type": "markdown",
   "metadata": {},
   "source": [
    "## Comments on the performance"
   ]
  },
  {
   "cell_type": "markdown",
   "metadata": {},
   "source": [
    " 1. Among the four imputers, IterativeImputer performed best when using Penguins MV0.2 dataset"
   ]
  },
  {
   "cell_type": "markdown",
   "metadata": {},
   "source": [
    "2. Among the four imputers, MyGussianNB performed best of filling in missing values when using Penguins MV0.4 dataset. Otherwise, among the three imputers using in the GaussianNB classifier, SimpleImputer performed best."
   ]
  },
  {
   "cell_type": "code",
   "execution_count": null,
   "metadata": {},
   "outputs": [],
   "source": []
  }
 ],
 "metadata": {
  "kernelspec": {
   "display_name": "Python 3",
   "language": "python",
   "name": "python3"
  },
  "language_info": {
   "codemirror_mode": {
    "name": "ipython",
    "version": 3
   },
   "file_extension": ".py",
   "mimetype": "text/x-python",
   "name": "python",
   "nbconvert_exporter": "python",
   "pygments_lexer": "ipython3",
   "version": "3.6.13"
  }
 },
 "nbformat": 4,
 "nbformat_minor": 4
}
